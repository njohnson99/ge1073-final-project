{
 "cells": [
  {
   "cell_type": "markdown",
   "metadata": {},
   "source": [
    "References:\n",
    "- https://stackoverflow.com/questions/59624831/how-do-i-web-scrape-a-jsp-with-python-selenium-and-beautifulsoup\n",
    "- https://www.semicolonworld.com/question/62285/scrape-table-data-from-jsp-page-using-selenium\n",
    "- https://stackoverflow.com/questions/18421280/selenium-python-click-on-element-nothing-happens\n",
    "- https://stackoverflow.com/questions/34660417/beautiful-soup-if-class-contains-or-regex\n",
    "- https://stackoverflow.com/questions/34396515/how-to-find-a-radio-button-element-by-value-using-selenium\n",
    "- https://www.selenium.dev/selenium/docs/api/py/webdriver_support/selenium.webdriver.support.select.html\n",
    "- https://sqa.stackexchange.com/questions/1355/what-is-the-correct-way-to-select-an-option-using-seleniums-python-webdriver"
   ]
  },
  {
   "cell_type": "code",
   "execution_count": 1,
   "metadata": {
    "collapsed": true
   },
   "outputs": [],
   "source": [
    "from selenium import webdriver\n",
    "from selenium.webdriver.firefox.options import Options\n",
    "import time\n",
    "from bs4 import BeautifulSoup\n",
    "import csv"
   ]
  },
  {
   "cell_type": "code",
   "execution_count": 2,
   "metadata": {
    "collapsed": true
   },
   "outputs": [],
   "source": [
    "from selenium.webdriver import FirefoxOptions\n",
    "\n",
    "import pandas as pd\n",
    "import numpy as np"
   ]
  },
  {
   "cell_type": "code",
   "execution_count": 3,
   "metadata": {
    "collapsed": true
   },
   "outputs": [],
   "source": [
    "import requests\n",
    "from selenium.webdriver.common.keys import Keys\n",
    "from selenium.webdriver.common.action_chains import ActionChains\n",
    "from selenium.webdriver.support.ui import Select\n"
   ]
  },
  {
   "cell_type": "code",
   "execution_count": 4,
   "metadata": {},
   "outputs": [
    {
     "name": "stderr",
     "output_type": "stream",
     "text": [
      "/anaconda3/lib/python3.6/site-packages/ipykernel_launcher.py:3: DeprecationWarning: use options instead of firefox_options\n",
      "  This is separate from the ipykernel package so we can avoid doing imports until\n"
     ]
    }
   ],
   "source": [
    "opts = FirefoxOptions()\n",
    "opts.add_argument(\"--headless\")\n",
    "driver = webdriver.Firefox(firefox_options=opts)"
   ]
  },
  {
   "cell_type": "code",
   "execution_count": 5,
   "metadata": {
    "collapsed": true
   },
   "outputs": [],
   "source": [
    "# Scrape the numbers:\n",
    "\n",
    "# For all states\n",
    "# For each state\n",
    "# For each race\n",
    "# For each ethnicity\n",
    "# For each sex"
   ]
  },
  {
   "cell_type": "markdown",
   "metadata": {},
   "source": [
    "<div id=\"Col1\">\n",
    "             <div class=\"questionTitle\">Select <a href=\"http://www.cdc.gov/ncipc/wisqars/nvdrs/DataElements-ReportOptions.htm#years of report\" target=\"popup\">Year(s) of Report</a></div>\n",
    "             <div class=\"spacer4\"> </div>\n",
    "                <select multiple=\"\" name=\"q6s1\" size=\"4\" onchange=\"q6s1SelectBox(this);\" id=\"myYearList\">                              \n",
    "                <option value=\"2018\">2018</option><option value=\"2017\">2017</option><option value=\"2016\">2016</option><option value=\"2015\">2015</option><option value=\"2014\">2014</option><option value=\"2013\">2013</option><option value=\"2012\">2012</option><option value=\"2011\">2011</option><option value=\"2010\">2010</option><option value=\"2009\">2009</option><option value=\"2008\">2008</option><option value=\"2007\">2007</option><option value=\"2006\">2006</option><option value=\"2005\">2005</option><option value=\"2004\">2004</option><option value=\"2003\">2003</option></select>\n",
    "           </div>"
   ]
  },
  {
   "cell_type": "code",
   "execution_count": 6,
   "metadata": {
    "collapsed": true
   },
   "outputs": [],
   "source": [
    "race_q_name = 'q6s4'\n",
    "\n",
    "race_q_dict = {}\n",
    "\n",
    "race_q_dict['0'] = 'All Races'\n",
    "race_q_dict['1'] = 'White'\n",
    "race_q_dict['2'] = 'Black'\n",
    "race_q_dict['3'] = 'Am Indian/AK Native'\n",
    "race_q_dict['4'] = 'Asian/Pac Islander'"
   ]
  },
  {
   "cell_type": "code",
   "execution_count": 7,
   "metadata": {
    "collapsed": true
   },
   "outputs": [],
   "source": [
    "eth_q_name = 'q6s5'\n",
    "\n",
    "eth_q_dict = {}\n",
    "\n",
    "eth_q_dict['0'] = 'All Ethnicity'\n",
    "eth_q_dict['1'] = 'Non-Hispanic'\n",
    "eth_q_dict['2'] = 'Hispanic'\n",
    "eth_q_dict['3'] = 'Unknown'\n"
   ]
  },
  {
   "cell_type": "code",
   "execution_count": 8,
   "metadata": {
    "collapsed": true
   },
   "outputs": [],
   "source": [
    "sex_q_name = 'q6s6'\n",
    "\n",
    "sex_q_dict = {}\n",
    "\n",
    "sex_q_dict['0'] = 'Both Sexes'\n",
    "sex_q_dict['1'] = 'Males'\n",
    "sex_q_dict['2'] = 'Females'\n"
   ]
  },
  {
   "cell_type": "code",
   "execution_count": 9,
   "metadata": {
    "collapsed": true
   },
   "outputs": [],
   "source": [
    "state_html_str = '<select multiple=\"selected\" name=\"q6s3\" size=\"4\" onchange=\"q6s3SelectBox(document.nvdrsForm,this)\" id=\"myStateList\"><option value=\"0\">All funded states (For years selected)</option><option value=\"01\">Alabama ( 2018 )</option><option value=\"02\">Alaska ( 2003 - 2018 )</option><option value=\"04\">Arizona ( 2015 - 2018 )</option><option value=\"06\">California ( 2017 - 2018 )</option><option value=\"08\">Colorado ( 2004 - 2018 )</option><option value=\"09\">Connecticut ( 2015 - 2018 )</option><option value=\"10\">Delaware ( 2017 - 2018 )</option><option value=\"11\">District of Columbia ( 2017 - 2018 )</option><option value=\"13\">Georgia ( 2004 - 2018 )</option><option value=\"15\">Hawaii ( 2015 - 2016 )</option><option value=\"17\">Illinois ( 2016 - 2018 )</option><option value=\"18\">Indiana ( 2016 - 2018 )</option><option value=\"19\">Iowa ( 2016 - 2018 )</option><option value=\"20\">Kansas ( 2015 - 2018 )</option><option value=\"21\">Kentucky ( 2005 - 2018 )</option><option value=\"22\">Louisiana ( 2018 )</option><option value=\"23\">Maine ( 2015 - 2018 )</option><option value=\"24\">Maryland ( 2003 - 2018 )</option><option value=\"25\">Massachusetts ( 2003 - 2018 )</option><option value=\"26\">Michigan ( 2014 - 2018 )</option><option value=\"27\">Minnesota ( 2015 - 2018 )</option><option value=\"29\">Missouri ( 2018 )</option><option value=\"31\">Nebraska ( 2018 )</option><option value=\"32\">Nevada ( 2017 - 2018 )</option><option value=\"33\">New Hampshire ( 2015 - 2018 )</option><option value=\"34\">New Jersey ( 2003 - 2018 )</option><option value=\"35\">New Mexico ( 2005 - 2018 )</option><option value=\"36\">New York ( 2015 - 2018 )</option><option value=\"37\">North Carolina ( 2004 - 2018 )</option><option value=\"39\">Ohio ( 2011 - 2018 )</option><option value=\"36\">New York ( 2015 - 2018 )</option><option value=\"40\">Oklahoma ( 2004 - 2018 )</option><option value=\"41\">Oregon ( 2003 - 2018 )</option><option value=\"42\">Pennsylvania ( 2016 - 2018 )</option><option value=\"44\">Rhode Island ( 2004 - 2018 )</option><option value=\"45\">South Carolina ( 2003 - 2018 )</option><option value=\"49\">Utah ( 2005 - 2018 )</option><option value=\"50\">Vermont ( 2015 - 2018 )</option><option value=\"51\">Virginia ( 2003 - 2018 )</option><option value=\"53\">Washington ( 2016 - 2018 )</option><option value=\"54\">West Virginia ( 2017 - 2018 )</option><option value=\"55\">Wisconsin ( 2004 - 2018 )</option></select>'"
   ]
  },
  {
   "cell_type": "code",
   "execution_count": 10,
   "metadata": {
    "collapsed": true
   },
   "outputs": [],
   "source": [
    "# Transform the state HTML string into a dictionary. \n",
    "\n",
    "state_q_name = 'q6s3'\n",
    "\n",
    "state_q_dict = {}\n",
    "\n",
    "# Split the string based on the word 'option'\n",
    "\n",
    "options = state_html_str.split('option')\n",
    "\n",
    "for option in options:\n",
    "    value_substr = 'value=\"'\n",
    "    \n",
    "    # The value is the key, the text is the value\n",
    "    if value_substr in option:\n",
    "        d_key = option.split(value_substr)[1].split('\"')[0]\n",
    "        \n",
    "        # Get the text.\n",
    "        d_val = option.split('<')[0].split('>')[1]\n",
    "        \n",
    "        #if d_key != '0' and d_key != '01':\n",
    "        state_q_dict[d_key] = d_val"
   ]
  },
  {
   "cell_type": "code",
   "execution_count": 11,
   "metadata": {
    "collapsed": true
   },
   "outputs": [],
   "source": [
    "table_name_select = 'td[class*=\"c systemtitle\"]'\n",
    "row_name_select = 'td[class*=\"l data\"]'\n",
    "data_name_select = 'td[class*=\"r data\"]'\n",
    "\n",
    "each_table_select = 'div[class*=\"branch\"]'"
   ]
  },
  {
   "cell_type": "code",
   "execution_count": 12,
   "metadata": {
    "collapsed": true
   },
   "outputs": [],
   "source": [
    "def make_df_from_beautiful_soup(soup):\n",
    "    rows_for_df = []\n",
    "\n",
    "    for EachPart in soup.select(each_table_select):\n",
    "        title_str = ''\n",
    "        for table_titles in EachPart.select(table_name_select):\n",
    "            title_str += table_titles.get_text() + ' '\n",
    "\n",
    "        # Iterate through the rows.\n",
    "        for row in EachPart.select('tr'):\n",
    "            if len(row.select(row_name_select)) > 0:\n",
    "                row_dict = {}\n",
    "                row_dict['title'] = title_str\n",
    "\n",
    "                for row_name in row.select(row_name_select):\n",
    "                    row_dict['row_name'] = row_name.get_text()\n",
    "\n",
    "                i = 0\n",
    "                for data in row.select(data_name_select):\n",
    "                    # Drop commas. \n",
    "                    \n",
    "                    num = data.get_text().replace(',', '')\n",
    "                    \n",
    "                    if '-' not in num:\n",
    "                        num = float(num)\n",
    "                    \n",
    "                    row_dict['data_' + str(i)] = num\n",
    "                    \n",
    "                    i += 1\n",
    "\n",
    "                rows_for_df.append(row_dict)\n",
    "                \n",
    "    # Make pandas DF.\n",
    "    table_df = pd.DataFrame(rows_for_df)\n",
    "    \n",
    "    return table_df"
   ]
  },
  {
   "cell_type": "code",
   "execution_count": 13,
   "metadata": {
    "collapsed": true
   },
   "outputs": [],
   "source": [
    "state_name = 'All funded states (For years selected)'\n",
    "state_ind = '0'"
   ]
  },
  {
   "cell_type": "code",
   "execution_count": 14,
   "metadata": {},
   "outputs": [
    {
     "name": "stdout",
     "output_type": "stream",
     "text": [
      "scraping All funded states (For years selected)_Non-Hispanic_All Races_Both Sexes_.csv ....\n"
     ]
    },
    {
     "name": "stderr",
     "output_type": "stream",
     "text": [
      "/anaconda3/lib/python3.6/site-packages/ipykernel_launcher.py:18: DeprecationWarning: use options instead of firefox_options\n"
     ]
    },
    {
     "ename": "KeyboardInterrupt",
     "evalue": "",
     "output_type": "error",
     "traceback": [
      "\u001b[0;31m---------------------------------------------------------------------------\u001b[0m",
      "\u001b[0;31mKeyboardInterrupt\u001b[0m                         Traceback (most recent call last)",
      "\u001b[0;32m<ipython-input-14-27bdc73bf6bd>\u001b[0m in \u001b[0;36m<module>\u001b[0;34m()\u001b[0m\n\u001b[1;32m     23\u001b[0m                 \u001b[0melement\u001b[0m \u001b[0;34m=\u001b[0m \u001b[0mdriver\u001b[0m\u001b[0;34m.\u001b[0m\u001b[0mfind_element_by_xpath\u001b[0m\u001b[0;34m(\u001b[0m\u001b[0;34m\"//input[@name='q5s' and @value=1]\"\u001b[0m\u001b[0;34m)\u001b[0m\u001b[0;34m\u001b[0m\u001b[0m\n\u001b[1;32m     24\u001b[0m                 \u001b[0melement\u001b[0m\u001b[0;34m.\u001b[0m\u001b[0mclick\u001b[0m\u001b[0;34m(\u001b[0m\u001b[0;34m)\u001b[0m\u001b[0;34m\u001b[0m\u001b[0m\n\u001b[0;32m---> 25\u001b[0;31m                 \u001b[0mtime\u001b[0m\u001b[0;34m.\u001b[0m\u001b[0msleep\u001b[0m\u001b[0;34m(\u001b[0m\u001b[0;36m2\u001b[0m\u001b[0;34m)\u001b[0m\u001b[0;34m\u001b[0m\u001b[0m\n\u001b[0m\u001b[1;32m     26\u001b[0m \u001b[0;34m\u001b[0m\u001b[0m\n\u001b[1;32m     27\u001b[0m                 \u001b[0;31m# Homicides only.\u001b[0m\u001b[0;34m\u001b[0m\u001b[0;34m\u001b[0m\u001b[0m\n",
      "\u001b[0;31mKeyboardInterrupt\u001b[0m: "
     ]
    }
   ],
   "source": [
    "df_list = []\n",
    "\n",
    "\n",
    "for eth_ind, eth_name in eth_q_dict.items():\n",
    "    for race_ind, race_name in race_q_dict.items():\n",
    "        for sex_ind, sex_name in sex_q_dict.items():\n",
    "\n",
    "            # For the Hispanic & Latino ethnicity, only scrape \"All Races\".\n",
    "            if eth_ind == '1' or (eth_ind == '2' and race_ind == '0'):\n",
    "\n",
    "                csv_name = state_name + '_' + eth_name + '_' + race_name + '_' + sex_name + '_.csv'\n",
    "\n",
    "                # Remove slashes in the name\n",
    "                csv_name = csv_name.replace('/', '')\n",
    "\n",
    "                print('scraping ' + csv_name + ' ....')\n",
    "\n",
    "                driver = webdriver.Firefox(firefox_options=opts)\n",
    "                driver.get(\"https://wisqars.cdc.gov:8443/nvdrs/nvdrsDisplay.jsp\")\n",
    "                time.sleep(2)\n",
    "\n",
    "                # Firearm deaths only.\n",
    "                element = driver.find_element_by_xpath(\"//input[@name='q5s' and @value=1]\")\n",
    "                element.click()\n",
    "                time.sleep(2)\n",
    "                \n",
    "                # Homicides only.\n",
    "                # Unclick 'All Intents', click 'Homicide' and 'Homicide followed by suicide'.\n",
    "                element = driver.find_element_by_xpath(\"//input[@name='q3s1' and @value=0]\")\n",
    "                element.click()\n",
    "                time.sleep(2)\n",
    "                \n",
    "                element = driver.find_element_by_xpath(\"//input[@name='q3s3' and @value=1]\")\n",
    "                element.click()\n",
    "                time.sleep(1)\n",
    "                \n",
    "                element = driver.find_element_by_xpath(\"//input[@name='q3s7' and @value=1]\")\n",
    "                element.click()                \n",
    "\n",
    "                # Click on the right state.\n",
    "                select = Select(driver.find_element_by_name(state_q_name))\n",
    "                select.select_by_value(state_ind)\n",
    "\n",
    "                # Click on the right ethnicity.\n",
    "                select = Select(driver.find_element_by_name(eth_q_name))\n",
    "                select.select_by_value(eth_ind)\n",
    "\n",
    "                # Click on the right race.\n",
    "                select = Select(driver.find_element_by_name(race_q_name))\n",
    "                select.select_by_value(race_ind)\n",
    "\n",
    "                # Click on the right sex.\n",
    "                select = Select(driver.find_element_by_name(sex_q_name))\n",
    "                select.select_by_value(sex_ind)\n",
    "\n",
    "                # Format to show death counts and percentages.\n",
    "                element = driver.find_element_by_xpath(\"//input[@name='q1s1' and @value='4']\")\n",
    "                element.click()\n",
    "\n",
    "                time.sleep(2)\n",
    "\n",
    "                submit = driver.find_element_by_name(\"SubmitCmd\")\n",
    "                submit.click()\n",
    "\n",
    "\n",
    "                window_after = driver.window_handles[1]\n",
    "                driver.switch_to.window(window_after)\n",
    "                time.sleep(5)\n",
    "\n",
    "\n",
    "                soup = BeautifulSoup(driver.page_source, 'html.parser')\n",
    "\n",
    "                df = make_df_from_beautiful_soup(soup)\n",
    "                df.to_csv('data/firearmhomicide_' + csv_name)"
   ]
  },
  {
   "cell_type": "code",
   "execution_count": null,
   "metadata": {
    "collapsed": true
   },
   "outputs": [],
   "source": []
  }
 ],
 "metadata": {
  "kernelspec": {
   "display_name": "Python 3",
   "language": "python",
   "name": "python3"
  },
  "language_info": {
   "codemirror_mode": {
    "name": "ipython",
    "version": 3
   },
   "file_extension": ".py",
   "mimetype": "text/x-python",
   "name": "python",
   "nbconvert_exporter": "python",
   "pygments_lexer": "ipython3",
   "version": "3.6.2"
  }
 },
 "nbformat": 4,
 "nbformat_minor": 2
}
