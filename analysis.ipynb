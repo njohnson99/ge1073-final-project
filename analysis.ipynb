{
 "cells": [
  {
   "cell_type": "markdown",
   "metadata": {},
   "source": [
    "This notebook contains sample code to load the scraped data and create visualizations."
   ]
  },
  {
   "cell_type": "code",
   "execution_count": null,
   "metadata": {
    "collapsed": true
   },
   "outputs": [],
   "source": [
    "import pandas as pd\n",
    "import numpy as np\n",
    "import matplotlib.pyplot as plt"
   ]
  },
  {
   "cell_type": "code",
   "execution_count": null,
   "metadata": {
    "collapsed": true
   },
   "outputs": [],
   "source": [
    "race_q_dict = {}\n",
    "\n",
    "race_q_dict['0'] = 'All Races'\n",
    "race_q_dict['1'] = 'White'\n",
    "race_q_dict['2'] = 'Black'\n",
    "race_q_dict['3'] = 'Am IndianAK Native'\n",
    "race_q_dict['4'] = 'AsianPac Islander'"
   ]
  },
  {
   "cell_type": "code",
   "execution_count": null,
   "metadata": {
    "collapsed": true
   },
   "outputs": [],
   "source": [
    "eth_q_dict = {}\n",
    "\n",
    "eth_q_dict['0'] = 'All Ethnicity'\n",
    "eth_q_dict['1'] = 'Non-Hispanic'\n",
    "eth_q_dict['2'] = 'Hispanic'\n",
    "eth_q_dict['3'] = 'Unknown'"
   ]
  },
  {
   "cell_type": "code",
   "execution_count": null,
   "metadata": {
    "collapsed": true
   },
   "outputs": [],
   "source": [
    "sex_q_dict = {}\n",
    "\n",
    "sex_q_dict['0'] = 'Both Sexes'\n",
    "sex_q_dict['1'] = 'Males'\n",
    "sex_q_dict['2'] = 'Females'"
   ]
  },
  {
   "cell_type": "code",
   "execution_count": null,
   "metadata": {
    "collapsed": true
   },
   "outputs": [],
   "source": [
    "# Load all sexes, all races, non-hispanic\n",
    "\n",
    "state_name = 'All funded states (For years selected)'"
   ]
  },
  {
   "cell_type": "code",
   "execution_count": null,
   "metadata": {
    "collapsed": true
   },
   "outputs": [],
   "source": [
    "def get_dict_key(eth_name, race_name, sex_name):\n",
    "    return eth_name + ' ' + race_name + ' ' + sex_name"
   ]
  },
  {
   "cell_type": "code",
   "execution_count": null,
   "metadata": {
    "collapsed": true
   },
   "outputs": [],
   "source": [
    "df_dict = {}\n",
    "\n",
    "for eth_ind, eth_name in eth_q_dict.items():\n",
    "    for race_ind, race_name in race_q_dict.items():\n",
    "        for sex_ind, sex_name in sex_q_dict.items():\n",
    "\n",
    "            csv_name = 'data/firearmhomicide_' + state_name + '_' + eth_name + '_' + race_name + '_' + sex_name + '_.csv'\n",
    "            \n",
    "            # Load the CSV as a pandas dataframe.\n",
    "            this_df = pd.read_csv(csv_name)\n",
    "            df_dict[get_dict_key(eth_name, race_name, sex_name)] = this_df\n"
   ]
  },
  {
   "cell_type": "code",
   "execution_count": null,
   "metadata": {},
   "outputs": [],
   "source": [
    "df_dict.keys()"
   ]
  },
  {
   "cell_type": "code",
   "execution_count": null,
   "metadata": {},
   "outputs": [],
   "source": [
    "at_home = {}\n",
    "\n",
    "# For each of the groups, calculate the percentage of homicides that happened at home.\n",
    "\n",
    "for name, df in df_dict.items():\n",
    "    print(df['row_name'])\n",
    "    home_rows = df.iloc[1]\n",
    "    at_home[name] = home_rows['data_1']\n"
   ]
  },
  {
   "cell_type": "code",
   "execution_count": null,
   "metadata": {},
   "outputs": [],
   "source": [
    "# Races, then genders\n",
    "\n",
    "# https://stackoverflow.com/questions/14270391/python-matplotlib-multiple-bars\n",
    "\n",
    "x = {}\n",
    "\n",
    "for r in list(at_home.keys()):\n",
    "    print(r)\n",
    "    race = r.rsplit(' ', 1)[0]\n",
    "    if race not in x:\n",
    "        x[race] = []\n",
    "    x[race].append(float(at_home[r]))"
   ]
  },
  {
   "cell_type": "code",
   "execution_count": null,
   "metadata": {
    "collapsed": true
   },
   "outputs": [],
   "source": [
    "gender_x = {}\n",
    "gender_x['Female'] = []\n",
    "gender_x['Male'] = []\n",
    "\n",
    "for r in x.keys():\n",
    "    gender_x['Female'].append(x[r][1])\n",
    "    gender_x['Male'].append(x[r][0])"
   ]
  },
  {
   "cell_type": "code",
   "execution_count": null,
   "metadata": {
    "collapsed": true
   },
   "outputs": [],
   "source": [
    "races = ['Non-Hispanic \\nWhite',\n",
    " 'Non-Hispanic \\nBlack',\n",
    " 'Non-Hispanic \\nAm Indian, AK Native',\n",
    " 'Non-Hispanic \\n Asian, Pac Islander',\n",
    " 'Hispanic \\nAll Races']"
   ]
  },
  {
   "cell_type": "code",
   "execution_count": null,
   "metadata": {
    "collapsed": true
   },
   "outputs": [],
   "source": [
    "from matplotlib import pyplot as plt\n",
    "\n",
    "\n",
    "def bar_plot(ax, data, title, colors=None, total_width=0.8, single_width=1, legend=True):\n",
    "    \"\"\"Draws a bar plot with multiple bars per data point.\n",
    "\n",
    "    Parameters\n",
    "    ----------\n",
    "    ax : matplotlib.pyplot.axis\n",
    "        The axis we want to draw our plot on.\n",
    "\n",
    "    data: dictionary\n",
    "        A dictionary containing the data we want to plot. Keys are the names of the\n",
    "        data, the items is a list of the values.\n",
    "\n",
    "        Example:\n",
    "        data = {\n",
    "            \"x\":[1,2,3],\n",
    "            \"y\":[1,2,3],\n",
    "            \"z\":[1,2,3],\n",
    "        }\n",
    "\n",
    "    colors : array-like, optional\n",
    "        A list of colors which are used for the bars. If None, the colors\n",
    "        will be the standard matplotlib color cyle. (default: None)\n",
    "\n",
    "    total_width : float, optional, default: 0.8\n",
    "        The width of a bar group. 0.8 means that 80% of the x-axis is covered\n",
    "        by bars and 20% will be spaces between the bars.\n",
    "\n",
    "    single_width: float, optional, default: 1\n",
    "        The relative width of a single bar within a group. 1 means the bars\n",
    "        will touch eachother within a group, values less than 1 will make\n",
    "        these bars thinner.\n",
    "\n",
    "    legend: bool, optional, default: True\n",
    "        If this is set to true, a legend will be added to the axis.\n",
    "    \"\"\"\n",
    "\n",
    "    # Check if colors where provided, otherwhise use the default color cycle\n",
    "    if colors is None:\n",
    "        colors = plt.rcParams['axes.prop_cycle'].by_key()['color']\n",
    "\n",
    "    # Number of bars per group\n",
    "    n_bars = len(data)\n",
    "\n",
    "    # The width of a single bar\n",
    "    bar_width = total_width / n_bars\n",
    "\n",
    "    # List containing handles for the drawn bars, used for the legend\n",
    "    bars = []\n",
    "\n",
    "    # Iterate over all data\n",
    "    for i, (name, values) in enumerate(data.items()):\n",
    "        # The offset in x direction of that bar\n",
    "        x_offset = (i - n_bars / 2) * bar_width + bar_width / 2\n",
    "\n",
    "        # Draw a bar for every value of that type\n",
    "        for x, y in enumerate(values):\n",
    "            bar = ax.bar(x + x_offset, y, width=bar_width * single_width, color=colors[i % len(colors)])\n",
    "            height = y\n",
    "            label_x_pos = (x + x_offset) \n",
    "            ax.text(label_x_pos, height + 2, s=f'{height}', ha='center', va='bottom')\n",
    "\n",
    "        # Add a handle to the last drawn bar, which we'll need for the legend\n",
    "        bars.append(bar[0])\n",
    "\n",
    "    # Draw legend if we need\n",
    "    if legend:\n",
    "        ax.legend(bars, data.keys())\n",
    "    \n",
    "    #plt.ylim((0, 100))\n",
    "    plt.xticks(range(5), races, fontsize=10)\n",
    "    plt.title(title)\n",
    "\n"
   ]
  },
  {
   "cell_type": "code",
   "execution_count": null,
   "metadata": {},
   "outputs": [],
   "source": [
    "fig, ax = plt.subplots(figsize=(10,4))\n",
    "bar_plot(ax, gender_x, 'Percentage of firearm homicides that occur in the home', total_width=.8, single_width=.9)\n",
    "plt.savefig('charts/percentage_firearmhomicides_home.png')\n",
    "plt.show()\n",
    "\n"
   ]
  },
  {
   "cell_type": "markdown",
   "metadata": {},
   "source": [
    "# Percentage of homicides involving a firearm"
   ]
  },
  {
   "cell_type": "code",
   "execution_count": null,
   "metadata": {},
   "outputs": [],
   "source": [
    "homicide_prop = {}\n",
    "substr = 'Total number'\n",
    "\n",
    "# For each of the groups, calculate the percentage of homicides that involving a firearm.\n",
    "\n",
    "for name, df in df_dict.items():\n",
    "    \n",
    "    homicide_count = df[df['row_name'].str.contains(substr)].reset_index().iloc[0]['data_0']\n",
    "    print(df[df['row_name'].str.contains(substr)].reset_index())\n",
    "\n",
    "    all_df = all_df_dict[name]\n",
    "    print(all_df[all_df['row_name'].str.contains(substr)].reset_index())\n",
    "    total_death_count = all_df[all_df['row_name'].str.contains(substr)].reset_index().iloc[0]['data_0']\n",
    "    \n",
    "    \n",
    "    if '-' in str(homicide_count) or '-' in str(total_death_count):\n",
    "        homicide_count = 0.\n",
    "        total_death_count = 1.\n",
    "    \n",
    "    homicide_prop[name] = float(homicide_count) / float(total_death_count)"
   ]
  },
  {
   "cell_type": "code",
   "execution_count": null,
   "metadata": {},
   "outputs": [],
   "source": [
    "# Races, then genders\n",
    "\n",
    "# https://stackoverflow.com/questions/14270391/python-matplotlib-multiple-bars\n",
    "\n",
    "x = {}\n",
    "\n",
    "for r in list(homicide_prop.keys()):\n",
    "    print(r)\n",
    "    race = r.rsplit(' ', 1)[0]\n",
    "    if race not in x:\n",
    "        x[race] = []\n",
    "    x[race].append(float(homicide_prop[r]))"
   ]
  },
  {
   "cell_type": "code",
   "execution_count": null,
   "metadata": {
    "collapsed": true
   },
   "outputs": [],
   "source": [
    "gender_x = {}\n",
    "gender_x['Female'] = []\n",
    "gender_x['Male'] = []\n",
    "\n",
    "for r in x.keys():\n",
    "    gender_x['Female'].append(round(100 * x[r][1], 2))\n",
    "    gender_x['Male'].append(round(100 * x[r][0], 2))"
   ]
  },
  {
   "cell_type": "code",
   "execution_count": null,
   "metadata": {
    "collapsed": true
   },
   "outputs": [],
   "source": [
    "races = ['Non-Hispanic \\nWhite',\n",
    " 'Non-Hispanic \\nBlack',\n",
    " 'Non-Hispanic \\nAm Indian, AK Native',\n",
    " 'Non-Hispanic \\n Asian, Pac Islander',\n",
    " 'Hispanic \\nAll Races']"
   ]
  },
  {
   "cell_type": "code",
   "execution_count": null,
   "metadata": {},
   "outputs": [],
   "source": [
    "fig, ax = plt.subplots(figsize=(10,4))\n",
    "bar_plot(ax, gender_x, 'Percentage of homicides that involved a firearm', total_width=.8, single_width=.9)\n",
    "plt.savefig('charts/percentage_homicides_firearm.png')\n",
    "plt.show()\n"
   ]
  },
  {
   "cell_type": "markdown",
   "metadata": {},
   "source": [
    "# Count the population of each sex, age, and ethnicity in the included states."
   ]
  },
  {
   "cell_type": "code",
   "execution_count": null,
   "metadata": {
    "collapsed": true
   },
   "outputs": [],
   "source": [
    "state_html_str = '<select multiple=\"selected\" name=\"q6s3\" size=\"4\" onchange=\"q6s3SelectBox(document.nvdrsForm,this)\" id=\"myStateList\"><option value=\"0\">All funded states (For years selected)</option><option value=\"01\">Alabama ( 2018 )</option><option value=\"02\">Alaska ( 2003 - 2018 )</option><option value=\"04\">Arizona ( 2015 - 2018 )</option><option value=\"06\">California ( 2017 - 2018 )</option><option value=\"08\">Colorado ( 2004 - 2018 )</option><option value=\"09\">Connecticut ( 2015 - 2018 )</option><option value=\"10\">Delaware ( 2017 - 2018 )</option><option value=\"11\">District of Columbia ( 2017 - 2018 )</option><option value=\"13\">Georgia ( 2004 - 2018 )</option><option value=\"15\">Hawaii ( 2015 - 2016 )</option><option value=\"17\">Illinois ( 2016 - 2018 )</option><option value=\"18\">Indiana ( 2016 - 2018 )</option><option value=\"19\">Iowa ( 2016 - 2018 )</option><option value=\"20\">Kansas ( 2015 - 2018 )</option><option value=\"21\">Kentucky ( 2005 - 2018 )</option><option value=\"22\">Louisiana ( 2018 )</option><option value=\"23\">Maine ( 2015 - 2018 )</option><option value=\"24\">Maryland ( 2003 - 2018 )</option><option value=\"25\">Massachusetts ( 2003 - 2018 )</option><option value=\"26\">Michigan ( 2014 - 2018 )</option><option value=\"27\">Minnesota ( 2015 - 2018 )</option><option value=\"29\">Missouri ( 2018 )</option><option value=\"31\">Nebraska ( 2018 )</option><option value=\"32\">Nevada ( 2017 - 2018 )</option><option value=\"33\">New Hampshire ( 2015 - 2018 )</option><option value=\"34\">New Jersey ( 2003 - 2018 )</option><option value=\"35\">New Mexico ( 2005 - 2018 )</option><option value=\"36\">New York ( 2015 - 2018 )</option><option value=\"37\">North Carolina ( 2004 - 2018 )</option><option value=\"39\">Ohio ( 2011 - 2018 )</option><option value=\"36\">New York ( 2015 - 2018 )</option><option value=\"40\">Oklahoma ( 2004 - 2018 )</option><option value=\"41\">Oregon ( 2003 - 2018 )</option><option value=\"42\">Pennsylvania ( 2016 - 2018 )</option><option value=\"44\">Rhode Island ( 2004 - 2018 )</option><option value=\"45\">South Carolina ( 2003 - 2018 )</option><option value=\"49\">Utah ( 2005 - 2018 )</option><option value=\"50\">Vermont ( 2015 - 2018 )</option><option value=\"51\">Virginia ( 2003 - 2018 )</option><option value=\"53\">Washington ( 2016 - 2018 )</option><option value=\"54\">West Virginia ( 2017 - 2018 )</option><option value=\"55\">Wisconsin ( 2004 - 2018 )</option></select>'"
   ]
  },
  {
   "cell_type": "code",
   "execution_count": null,
   "metadata": {
    "collapsed": true
   },
   "outputs": [],
   "source": [
    "# Transform the state HTML string into a dictionary. \n",
    "\n",
    "state_q_name = 'q6s3'\n",
    "\n",
    "state_q_dict = {}\n",
    "\n",
    "# Split the string based on the word 'option'\n",
    "\n",
    "options = state_html_str.split('option')\n",
    "\n",
    "for option in options:\n",
    "    value_substr = 'value=\"'\n",
    "    \n",
    "    # The value is the key, the text is the value\n",
    "    if value_substr in option:\n",
    "        d_key = option.split(value_substr)[1].split('\"')[0]\n",
    "        \n",
    "        # Get the text.\n",
    "        d_val = option.split('<')[0].split('>')[1]\n",
    "        \n",
    "        \n",
    "        \n",
    "        \n",
    "        if '2018' in d_val:\n",
    "            d_val = d_val.split('(')[0]\n",
    "            state_q_dict[d_key] = d_val[:-1]"
   ]
  },
  {
   "cell_type": "code",
   "execution_count": null,
   "metadata": {
    "collapsed": true
   },
   "outputs": [],
   "source": [
    "census_df = pd.read_csv('data/sc-est2019-alldata6.csv')"
   ]
  },
  {
   "cell_type": "code",
   "execution_count": null,
   "metadata": {
    "collapsed": true
   },
   "outputs": [],
   "source": [
    "cols = ['NAME', 'SEX', 'RACE', 'ORIGIN', 'POPESTIMATE2018', 'AGE']"
   ]
  },
  {
   "cell_type": "code",
   "execution_count": null,
   "metadata": {
    "collapsed": true
   },
   "outputs": [],
   "source": [
    "# Only include states that were included in 2018."
   ]
  },
  {
   "cell_type": "code",
   "execution_count": null,
   "metadata": {
    "collapsed": true
   },
   "outputs": [],
   "source": [
    "states_to_keep = list(state_q_dict.values())"
   ]
  },
  {
   "cell_type": "code",
   "execution_count": null,
   "metadata": {
    "collapsed": true
   },
   "outputs": [],
   "source": [
    "race_eths = ['Non-Hispanic White Males', 'Non-Hispanic White Females', 'Non-Hispanic Black Males', 'Non-Hispanic Black Females', 'Non-Hispanic Am IndianAK Native Males', 'Non-Hispanic Am IndianAK Native Females', 'Non-Hispanic AsianPac Islander Males', 'Non-Hispanic AsianPac Islander Females', 'Hispanic All Races Males', 'Hispanic All Races Females']\n",
    "\n",
    "total_pop_counts = {}"
   ]
  },
  {
   "cell_type": "code",
   "execution_count": null,
   "metadata": {
    "collapsed": true
   },
   "outputs": [],
   "source": [
    "census_df = census_df[cols]"
   ]
  },
  {
   "cell_type": "code",
   "execution_count": null,
   "metadata": {
    "collapsed": true
   },
   "outputs": [],
   "source": [
    "# Only keep the census columns with NAME in the states_to_keep.\n",
    "\n",
    "census_df = census_df[census_df['NAME'].isin(states_to_keep)]"
   ]
  },
  {
   "cell_type": "code",
   "execution_count": null,
   "metadata": {},
   "outputs": [],
   "source": [
    "census_df['NAME'].value_counts().shape"
   ]
  },
  {
   "cell_type": "code",
   "execution_count": null,
   "metadata": {
    "collapsed": true
   },
   "outputs": [],
   "source": [
    "def return_pop_count(race_num, eth_num, sex_num):\n",
    "    sub_df = census_df[census_df['RACE'] == race_num]\n",
    "    sub_df = sub_df[sub_df['ORIGIN'] == eth_num]\n",
    "    sub_df = sub_df[sub_df['SEX'] == sex_num]\n",
    "    \n",
    "    return np.sum(sub_df['POPESTIMATE2018'])"
   ]
  },
  {
   "cell_type": "markdown",
   "metadata": {},
   "source": [
    "The key for SEX is as follows:\n",
    "0 = Total\n",
    "1 = Male\n",
    "2 = Female\n",
    "\n",
    "The key for ORIGIN is as follows:\n",
    "0 = Total\n",
    "1 = Not Hispanic\n",
    "2 = Hispanic\n",
    "\n",
    "\n",
    "The key for RACE is as follows:\n",
    "1 = White Alone\n",
    "2 = Black or African American Alone\n",
    "3 = American Indian or Alaska Native Alone\n",
    "4 = Asian Alone\n",
    "5 = Native Hawaiian and Other Pacific Islander Alone\n",
    "6 = Two or more races\n",
    "\n",
    "race_eths = ['Non-Hispanic White Males', 'Non-Hispanic White Females', 'Non-Hispanic Black Males', 'Non-Hispanic Black Females', 'Non-Hispanic Am IndianAK Native Males', 'Non-Hispanic Am IndianAK Native Females', 'Non-Hispanic AsianPac Islander Males', 'Non-Hispanic AsianPac Islander Females', 'Hispanic All Races Males', 'Hispanic All Races Females']\n"
   ]
  },
  {
   "cell_type": "code",
   "execution_count": null,
   "metadata": {},
   "outputs": [],
   "source": [
    "# Add across states, for each race.\n",
    "\n",
    "total_pop_counts['Non-Hispanic White Males'] = return_pop_count(1, 1, 1)\n",
    "total_pop_counts['Non-Hispanic White Females'] = return_pop_count(1, 1, 2)\n",
    "total_pop_counts['Non-Hispanic Black Males'] = return_pop_count(2, 1, 1)\n",
    "total_pop_counts['Non-Hispanic Black Females'] = return_pop_count(2, 1, 2)\n",
    "total_pop_counts['Non-Hispanic Am IndianAK Native Males'] = return_pop_count(3, 1, 1)\n",
    "total_pop_counts['Non-Hispanic Am IndianAK Native Females'] = return_pop_count(3, 1, 2)\n",
    "total_pop_counts['Non-Hispanic AsianPac Islander Males'] = return_pop_count(4, 1, 1) + return_pop_count(5, 1, 1)\n",
    "total_pop_counts['Non-Hispanic AsianPac Islander Females'] = return_pop_count(4, 1, 2) + return_pop_count(5, 1, 2)\n",
    "total_pop_counts['Hispanic All Races Males'] = np.sum([return_pop_count(i, 2, 1) for i in range(1, 7)])\n",
    "total_pop_counts['Hispanic All Races Females'] = np.sum([return_pop_count(i, 2, 2) for i in range(1, 7)])\n"
   ]
  },
  {
   "cell_type": "code",
   "execution_count": null,
   "metadata": {
    "collapsed": true
   },
   "outputs": [],
   "source": [
    "import pickle"
   ]
  },
  {
   "cell_type": "code",
   "execution_count": null,
   "metadata": {
    "collapsed": true
   },
   "outputs": [],
   "source": [
    "pickle.dump( total_pop_counts, open( \"data/pop_counts.p\", \"wb\" ) )"
   ]
  },
  {
   "cell_type": "markdown",
   "metadata": {},
   "source": [
    "# Vulnerability to firearm death in home"
   ]
  },
  {
   "cell_type": "code",
   "execution_count": null,
   "metadata": {
    "collapsed": true
   },
   "outputs": [],
   "source": [
    "import pickle"
   ]
  },
  {
   "cell_type": "code",
   "execution_count": null,
   "metadata": {
    "collapsed": true
   },
   "outputs": [],
   "source": [
    "total_pop_counts = pickle.load( open( \"data/pop_counts.p\", \"rb\" ) )"
   ]
  },
  {
   "cell_type": "code",
   "execution_count": null,
   "metadata": {
    "collapsed": true
   },
   "outputs": [],
   "source": [
    "home_prop = {}\n",
    "substr = 'Total number'\n",
    "\n",
    "for name, df in df_dict.items():\n",
    "    \n",
    "    in_home = df.iloc[1]['data_0']\n",
    "    \n",
    "    pop_den = total_pop_counts[name]\n",
    "    \n",
    "    home_prop[name] = float(in_home) / pop_den"
   ]
  },
  {
   "cell_type": "code",
   "execution_count": null,
   "metadata": {},
   "outputs": [],
   "source": [
    "home_prop"
   ]
  },
  {
   "cell_type": "code",
   "execution_count": null,
   "metadata": {},
   "outputs": [],
   "source": [
    "x = {}\n",
    "\n",
    "for r in list(home_prop.keys()):\n",
    "    print(r)\n",
    "    race = r.rsplit(' ', 1)[0]\n",
    "    if race not in x:\n",
    "        x[race] = []\n",
    "    x[race].append(float(home_prop[r]))"
   ]
  },
  {
   "cell_type": "code",
   "execution_count": null,
   "metadata": {},
   "outputs": [],
   "source": [
    "fig, ax = plt.subplots(figsize=(10,4))\n",
    "bar_plot(ax, gender_x, 'Vulnerability to firearm homicide in the home, number of deaths per 1,000', total_width=.8, single_width=.9)\n",
    "plt.savefig('charts/vul_home_homicide_firearm.png')\n",
    "plt.show()"
   ]
  },
  {
   "cell_type": "code",
   "execution_count": null,
   "metadata": {
    "collapsed": true
   },
   "outputs": [],
   "source": []
  }
 ],
 "metadata": {
  "kernelspec": {
   "display_name": "Python 3",
   "language": "python",
   "name": "python3"
  },
  "language_info": {
   "codemirror_mode": {
    "name": "ipython",
    "version": 3
   },
   "file_extension": ".py",
   "mimetype": "text/x-python",
   "name": "python",
   "nbconvert_exporter": "python",
   "pygments_lexer": "ipython3",
   "version": "3.6.2"
  }
 },
 "nbformat": 4,
 "nbformat_minor": 2
}
